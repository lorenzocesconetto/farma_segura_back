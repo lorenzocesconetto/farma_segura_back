{
 "cells": [
  {
   "cell_type": "code",
   "execution_count": 1,
   "metadata": {},
   "outputs": [],
   "source": [
    "import requests\n",
    "import pandas as pd\n",
    "import threading\n",
    "import json\n",
    "import concurrent.futures"
   ]
  },
  {
   "cell_type": "code",
   "execution_count": 2,
   "metadata": {},
   "outputs": [],
   "source": [
    "pd.set_option('display.max_columns', 100)\n",
    "pd.set_option('display.max_rows', 100)\n",
    "pd.set_option('display.max_colwidth', 100)\n",
    "requests.packages.urllib3.disable_warnings()\n",
    "from IPython.core.interactiveshell import InteractiveShell\n",
    "InteractiveShell.ast_node_interactivity = \"all\""
   ]
  },
  {
   "cell_type": "code",
   "execution_count": 3,
   "metadata": {},
   "outputs": [],
   "source": [
    "df = pd.read_excel('consulta_medicamento.xls')"
   ]
  },
  {
   "cell_type": "code",
   "execution_count": 4,
   "metadata": {},
   "outputs": [],
   "source": [
    "cookies = {\n",
    "    'FGTServer': '2DE20D8040A1176F71792EB219E8DA9BCEDF996805D330F1AFAB13D5103423AE685570373EACB70B61CDD98DCE85',\n",
    "    '_ga': 'GA1.3.553670112.1611596234',\n",
    "    '_TRAEFIK_BACKEND': 'http://10.0.2.77:8080',\n",
    "    '_pk_ref.42.210e': '%5B%22%22%2C%22%22%2C1627238950%2C%22https%3A%2F%2Fwww.google.com%2F%22%5D',\n",
    "    '_pk_id.42.210e': '4f9d963457ccc148.1611596241.',\n",
    "    '_pk_ses.42.210e': '1',\n",
    "}\n",
    "headers = {\n",
    "    'Connection': 'keep-alive',\n",
    "    'Pragma': 'no-cache',\n",
    "    'Cache-Control': 'no-cache',\n",
    "    'sec-ch-ua': '\"Chromium\";v=\"92\", \" Not A;Brand\";v=\"99\", \"Google Chrome\";v=\"92\"',\n",
    "    'sec-ch-ua-mobile': '?0',\n",
    "    'User-Agent': 'Mozilla/5.0 (Macintosh; Intel Mac OS X 10_15_7) AppleWebKit/537.36 (KHTML, like Gecko) Chrome/92.0.4515.107 Safari/537.36',\n",
    "    'Accept': 'application/json, text/plain, */*',\n",
    "    'Authorization': 'Guest',\n",
    "    'If-Modified-Since': 'Mon, 26 Jul 1997 05:00:00 GMT',\n",
    "    'Sec-Fetch-Site': 'same-origin',\n",
    "    'Sec-Fetch-Mode': 'cors',\n",
    "    'Sec-Fetch-Dest': 'empty',\n",
    "    'Referer': 'https://consultas.anvisa.gov.br/',\n",
    "    'Accept-Language': 'en-US,en;q=0.9',\n",
    "}"
   ]
  },
  {
   "cell_type": "code",
   "execution_count": 5,
   "metadata": {},
   "outputs": [],
   "source": [
    "# data = []\n",
    "with open('data.json', 'r') as f:\n",
    "    data = json.load(f)"
   ]
  },
  {
   "cell_type": "code",
   "execution_count": 6,
   "metadata": {},
   "outputs": [],
   "source": [
    "processes = set()\n",
    "for d in data:\n",
    "    processes.add(d['processo']['numero'])"
   ]
  },
  {
   "cell_type": "code",
   "execution_count": 7,
   "metadata": {},
   "outputs": [
    {
     "data": {
      "text/plain": [
       "<generator object Executor.map.<locals>.result_iterator at 0x7fe4fa339cf0>"
      ]
     },
     "execution_count": 7,
     "metadata": {},
     "output_type": "execute_result"
    }
   ],
   "source": [
    "def thread_func(value):\n",
    "    if value in processes:\n",
    "        return None\n",
    "    response = requests.get(f'https://consultas.anvisa.gov.br/api/consulta/medicamento/produtos/{value}', headers=headers, cookies=cookies, verify=False)\n",
    "    tmp = response.json()\n",
    "    data.append(tmp)\n",
    "    processes.add(tmp['processo']['numero'])\n",
    "    if len(data) % 250 == 0:\n",
    "        print(len(data))\n",
    "\n",
    "with concurrent.futures.ThreadPoolExecutor(max_workers=30) as executor:\n",
    "        executor.map(thread_func, df['Processo'].str.replace('[/\\.-]', '', regex=True))\n",
    "        \n",
    "# for value in df['Processo'].str.replace('[/\\.-]', '', regex=True):\n",
    "#     if value in processes:\n",
    "#         continue\n",
    "#     x = threading.Thread(target=thread_func, args=(value,))\n",
    "#     x.start()\n",
    "#     response = requests.get(f'https://consultas.anvisa.gov.br/api/consulta/medicamento/produtos/{value}', headers=headers, cookies=cookies, verify=False)\n",
    "#     tmp = response.json()\n",
    "#     data.append(tmp)\n",
    "#     processes.add(tmp['processo']['numero'])\n",
    "#     if len(data) % 250 == 0:\n",
    "#         print(len(data))"
   ]
  },
  {
   "cell_type": "code",
   "execution_count": 13,
   "metadata": {},
   "outputs": [],
   "source": [
    "# with open('data.json', 'w', encoding='utf-8') as f:\n",
    "#     json.dump(data, f, ensure_ascii=False)"
   ]
  },
  {
   "cell_type": "markdown",
   "metadata": {},
   "source": [
    "# DataFrame"
   ]
  },
  {
   "cell_type": "code",
   "execution_count": 16,
   "metadata": {},
   "outputs": [],
   "source": [
    "rows = []\n",
    "for d in data:\n",
    "    tmp = dict()\n",
    "    tmp['codigo_produto'] = d['codigoProduto']\n",
    "    tmp['tipo_produto'] = d['tipoProduto']\n",
    "    tmp['nome_comercial'] = d['nomeComercial']\n",
    "    tmp['numero_registro'] = d['numeroRegistro']\n",
    "    tmp['codigo_bula_paciente'] = d['codigoBulaPaciente']\n",
    "    tmp['codigo_bula_profissional'] = d['codigoBulaProfissional']\n",
    "    tmp['categoria_regulatoria'] = d['categoriaRegulatoria']\n",
    "    tmp['atc'] = d['atc']\n",
    "    tmp['cnpj'] = d['empresa']['cnpj']\n",
    "    tmp['razao_social'] = d['empresa']['razaoSocial']\n",
    "    tmp['numero_processo'] = d['processo']['numero']\n",
    "    for ap in d['apresentacoes']:\n",
    "        tmp_new = {**tmp}\n",
    "        tmp_new['codigo'] = ap['codigo']\n",
    "        tmp_new['apresentacao'] = ap['apresentacao']\n",
    "        tmp_new['formas_farmaceuticas'] = ap['formasFarmaceuticas']\n",
    "        tmp_new['registro'] = ap['registro']\n",
    "        tmp_new['principios_ativos'] = ap['principiosAtivos']\n",
    "        tmp_new['restricao_prescricao'] = ap['restricaoPrescricao']\n",
    "        tmp_new['restricao_uso'] = ap['restricaoUso']\n",
    "        tmp_new['tarja'] = ap['tarja']\n",
    "        tmp_new['apresentacao_fracionada'] = ap['apresentacaoFracionada']\n",
    "        tmp_new['medicamento_referencia'] = ap['medicamentoReferencia']\n",
    "        rows.append(tmp_new)"
   ]
  },
  {
   "cell_type": "code",
   "execution_count": 17,
   "metadata": {},
   "outputs": [],
   "source": [
    "df = pd.DataFrame(rows)"
   ]
  },
  {
   "cell_type": "code",
   "execution_count": 19,
   "metadata": {},
   "outputs": [
    {
     "data": {
      "text/plain": [
       "2.434336963484945"
      ]
     },
     "execution_count": 19,
     "metadata": {},
     "output_type": "execute_result"
    }
   ],
   "source": [
    "s = df['apresentacao_fracionada'].value_counts()\n",
    "s['S'] / (s['S'] + s['N']) * 100"
   ]
  },
  {
   "cell_type": "code",
   "execution_count": 35,
   "metadata": {},
   "outputs": [],
   "source": [
    "df['formas_farmaceuticas'] = df['formas_farmaceuticas'].apply(lambda x: ', '.join(x))\n",
    "df['restricao_uso'] = df['restricao_uso'].apply(lambda x: ', '.join(x))\n",
    "df['restricao_prescricao'] = df['restricao_prescricao'].apply(lambda x: ', '.join(x))"
   ]
  },
  {
   "cell_type": "code",
   "execution_count": 54,
   "metadata": {},
   "outputs": [],
   "source": [
    "def process(x):\n",
    "    if len(x) == 0:\n",
    "        return None\n",
    "    if x[0] is None:\n",
    "        return None\n",
    "    return ', '.join(x)\n",
    "\n",
    "df['principios_ativos'] = df['principios_ativos'].apply(process)"
   ]
  },
  {
   "cell_type": "code",
   "execution_count": 56,
   "metadata": {},
   "outputs": [],
   "source": [
    "df.drop_duplicates(inplace=True)"
   ]
  },
  {
   "cell_type": "code",
   "execution_count": 57,
   "metadata": {},
   "outputs": [],
   "source": [
    "df.drop_duplicates('codigo', inplace=True)"
   ]
  },
  {
   "cell_type": "code",
   "execution_count": 84,
   "metadata": {},
   "outputs": [],
   "source": [
    "# df.to_csv('anvisa_scraped.csv', index=False)"
   ]
  },
  {
   "cell_type": "code",
   "execution_count": null,
   "metadata": {},
   "outputs": [],
   "source": []
  }
 ],
 "metadata": {
  "kernelspec": {
   "display_name": "Python 3",
   "language": "python",
   "name": "python3"
  },
  "language_info": {
   "codemirror_mode": {
    "name": "ipython",
    "version": 3
   },
   "file_extension": ".py",
   "mimetype": "text/x-python",
   "name": "python",
   "nbconvert_exporter": "python",
   "pygments_lexer": "ipython3",
   "version": "3.8.3"
  }
 },
 "nbformat": 4,
 "nbformat_minor": 4
}
