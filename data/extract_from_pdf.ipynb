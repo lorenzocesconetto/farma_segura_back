{
 "metadata": {
  "language_info": {
   "codemirror_mode": {
    "name": "ipython",
    "version": 3
   },
   "file_extension": ".py",
   "mimetype": "text/x-python",
   "name": "python",
   "nbconvert_exporter": "python",
   "pygments_lexer": "ipython3",
   "version": "3.8.3"
  },
  "orig_nbformat": 4,
  "kernelspec": {
   "name": "python3",
   "display_name": "Python 3.8.3 64-bit ('base': conda)"
  },
  "interpreter": {
   "hash": "233482eb8520f10b1f940db493c53684e6c8c2e8bc7ec5f75378f1a7254faed8"
  }
 },
 "nbformat": 4,
 "nbformat_minor": 2,
 "cells": [
  {
   "source": [
    "# Get ANVISA approved meds from PDF"
   ],
   "cell_type": "markdown",
   "metadata": {}
  },
  {
   "cell_type": "code",
   "execution_count": 2,
   "metadata": {},
   "outputs": [],
   "source": [
    "import tabula\n",
    "import pandas as pd"
   ]
  },
  {
   "source": [
    "## Genéricos"
   ],
   "cell_type": "markdown",
   "metadata": {}
  },
  {
   "cell_type": "code",
   "execution_count": 19,
   "metadata": {},
   "outputs": [],
   "source": [
    "# file_path = \"./6457json-file-1.pdf\"\n",
    "file_path = \"./meds_removed_first_last.pdf\""
   ]
  },
  {
   "cell_type": "code",
   "execution_count": 20,
   "metadata": {},
   "outputs": [
    {
     "output_type": "stream",
     "name": "stderr",
     "text": [
      "Got stderr: Jun 14, 2021 3:43:41 PM org.apache.pdfbox.pdmodel.font.PDSimpleFont toUnicode\nWARNING: No Unicode mapping for .notdef (0) in font AAAAAB+Cambria\n\n"
     ]
    }
   ],
   "source": [
    "#Convert your file\n",
    "dfs = tabula.read_pdf(file_path, pages='all', pandas_options={'header': None})"
   ]
  },
  {
   "cell_type": "code",
   "execution_count": 21,
   "metadata": {},
   "outputs": [],
   "source": [
    "df = pd.concat(dfs)"
   ]
  },
  {
   "cell_type": "code",
   "execution_count": 22,
   "metadata": {},
   "outputs": [],
   "source": [
    "df.columns = [\n",
    "    'Medicamento Genérico',\n",
    "'Medicamento de Referência',\n",
    "'Forma Farmacêutica',\n",
    "'Concentração',\n",
    "'Detentor do Registro',\n",
    "'Publicação do registro',\n",
    "]"
   ]
  },
  {
   "cell_type": "code",
   "execution_count": 23,
   "metadata": {},
   "outputs": [],
   "source": [
    "df.replace(r'\\r', ' ', regex=True, inplace=True)"
   ]
  },
  {
   "cell_type": "code",
   "execution_count": 9,
   "metadata": {},
   "outputs": [],
   "source": [
    "df.to_csv('genericos.csv', index=False)"
   ]
  },
  {
   "cell_type": "code",
   "execution_count": 26,
   "metadata": {},
   "outputs": [
    {
     "output_type": "execute_result",
     "data": {
      "text/plain": [
       "                    Medicamento Genérico Medicamento de Referência  \\\n",
       "0            cloridrato de doxorrubicina           Adriblastina RD   \n",
       "1                             ibuprofeno                     Advil   \n",
       "2                             ibuprofeno                     Advil   \n",
       "3                             ibuprofeno                     Advil   \n",
       "4                             ibuprofeno             Advil e Dalsy   \n",
       "5   sulfato de salbutamol + guaifenesina                  Aeroflux   \n",
       "6   sulfato de salbutamol + guaifenesina                  Aeroflux   \n",
       "7                  sulfato de salbutamol                   Aerolin   \n",
       "8                  sulfato de salbutamol                   Aerolin   \n",
       "9                  sulfato de salbutamol                   Aerolin   \n",
       "10                 sulfato de salbutamol                   Aerolin   \n",
       "11                 sulfato de salbutamol                   Aerolin   \n",
       "12                 sulfato de salbutamol                   Aerolin   \n",
       "13                 sulfato de salbutamol                   Aerolin   \n",
       "14                 sulfato de salbutamol                   Aerolin   \n",
       "15                 sulfato de salbutamol                   Aerolin   \n",
       "16                             everolimo         Afinator/Certican   \n",
       "17           cloridrato de oximetazolina                     Afrin   \n",
       "18           cloridrato de oximetazolina                     Afrin   \n",
       "19           cloridrato de oximetazolina                     Afrin   \n",
       "20           cloridrato de oximetazolina                     Afrin   \n",
       "21               cloridrato de tirofiban     A mgroansotiadtratado   \n",
       "22                       espironolactona                 Aldactone   \n",
       "23                       espironolactona                 Aldactone   \n",
       "24                       espironolactona                 Aldactone   \n",
       "25                       espironolactona                 Aldactone   \n",
       "26                       espironolactona                 Aldactone   \n",
       "27                       espironolactona                 Aldactone   \n",
       "28                       espironolactona                 Aldactone   \n",
       "29                            imiquimode                    Aldara   \n",
       "30                             metildopa                   Aldomet   \n",
       "0                              metildopa                   Aldomet   \n",
       "1                              metildopa                   Aldomet   \n",
       "2                              bilastina                   ALEKTOS   \n",
       "3    fumarato de formoterol + budesonida                    Alenia   \n",
       "4                  pemetrexede dissódico                    Alimta   \n",
       "5                   pemetrexede dissódic                    Alimta   \n",
       "6                  pemetrexede dissódico                    Alimta   \n",
       "7                  pemetrexede dissódico                    Alimta   \n",
       "8                             ibuprofeno                   Alivium   \n",
       "9                             ibuprofeno                   Alivium   \n",
       "10                            ibuprofeno                   Alivium   \n",
       "11                            ibuprofeno                   Alivium   \n",
       "12                            ibuprofeno                   Alivium   \n",
       "13                            ibuprofeno                   Alivium   \n",
       "14                            ibuprofeno                   Alivium   \n",
       "15                cloridrato de fexofena                Ainllaegra   \n",
       "16                cloridrato de fexofena                Ainllaegra   \n",
       "17            cloridrato de fexofenadina                   Allegra   \n",
       "18            cloridrato de fexofenadina                   Allegra   \n",
       "\n",
       "                                   Forma Farmacêutica  \\\n",
       "0                           Pó para solução injetável   \n",
       "1                                     Suspensão Gotas   \n",
       "2                                        Cápsula dura   \n",
       "3                                     Suspensão Gotas   \n",
       "4                                Comprimido revestido   \n",
       "5                                        Solução oral   \n",
       "6                                        Solução oral   \n",
       "7                                              Xarope   \n",
       "8                                        Solução oral   \n",
       "9                                              Xarope   \n",
       "10                                             Xarope   \n",
       "11                                             Xarope   \n",
       "12                                             Xarope   \n",
       "13                                             Xarope   \n",
       "14                                             Xarope   \n",
       "15                                             Xarope   \n",
       "16                                         Comprimido   \n",
       "17           Solução nasal local - frasco vaporizador   \n",
       "18  Solução nasal local - Conta-gotas e frasco vap...   \n",
       "19                  Solução nasal local - Conta-gotas   \n",
       "20  Solução nasal local - Conta-gotas e frasco vap...   \n",
       "21                                solução para diluiç   \n",
       "22                                         Comprimido   \n",
       "23                                         Comprimido   \n",
       "24                                         Comprimido   \n",
       "25                                     COMPRIMIDO SIM   \n",
       "26                                         Comprimido   \n",
       "27                                         Comprimido   \n",
       "28                                     COMPRIMIDO SIM   \n",
       "29                                Creme dermatológico   \n",
       "30                               Comprimido revestido   \n",
       "0                                Comprimido revestido   \n",
       "1                                Comprimido revestido   \n",
       "2                                          comprimido   \n",
       "3                   Cápsula dura com pó para inalação   \n",
       "4                           Pó para solução injetável   \n",
       "5                                     PO LIOFILO PARA   \n",
       "6                           Pó para solução injetável   \n",
       "7                           Pó para solução injetável   \n",
       "8                                      Suspensão oral   \n",
       "9                                      Suspensão oral   \n",
       "10                                     Suspensão oral   \n",
       "11                                     Suspensão oral   \n",
       "12                                     Suspensão oral   \n",
       "13                                     Suspensão oral   \n",
       "14                                     Suspensão oral   \n",
       "15                                  comprimido revest   \n",
       "16                                  comprimido revest   \n",
       "17                               Comprimido revestido   \n",
       "18                               Comprimido revestido   \n",
       "\n",
       "                      Concentração Detentor do Registro Publicação do registro  \n",
       "0                     10 mg; 50 mg             Glenmark             10/03/2006  \n",
       "1                        100 mg/ml               1Farma             15/07/2019  \n",
       "2                           400 mg           Brainfarma             25/02/2019  \n",
       "3                        100 mg/ml                Cimed             15/07/2019  \n",
       "4                   200 mg; 400 mg          Medquímic a             30/10/2009  \n",
       "5             0,4 mg/ml + 20 mg/ml              EMS S/A             08/01/2007  \n",
       "6             0,4 mg/ml + 20 mg/ml              Legrand             29/03/2010  \n",
       "7                        0,4 mg/ml          Brainfarm a             31/03/2000  \n",
       "8                        0,4 mg/ml              EMS S/A             20/04/2000  \n",
       "9                        0,4 mg/ml               Geolab             24/07/2006  \n",
       "10                       0,4 mg/ml               Mariol             26/12/2011  \n",
       "11           0,4 mg/ml; 0,48 mg/ml      Prati Donaduzzi             28/06/2001  \n",
       "12                       0,4 mg/ml               Sanval             25/02/2008  \n",
       "13                       0,4 mg/ml                Teuto             03/02/2000  \n",
       "14                       0,4 mg/ml    Theodoro F Sobral             24/02/2003  \n",
       "15                       0,4 mg/ml              Vitapan             03/02/2014  \n",
       "16             2,5 mg; 5 mg; 10 mg           Natcofarma             23/07/2018  \n",
       "17                       0,5 mg/ml          Brainfarm a             15/10/2012  \n",
       "18           0,5 mg/ml; 0,25 mg/ml              EMS S/A             19/09/2005  \n",
       "19                      0,25 mg/ml      Prati Donaduzzi             02/02/2009  \n",
       "20           0,5 mg/ml; 0,25 mg/ml                Teuto             11/07/2005  \n",
       "21          0o, 2in5j emtágv/eml l          Antibiótico    0d8o/ B0r7a/s2il019  \n",
       "22             25 mg; 50 mg; 100mg              EMS S/A             22/09/2003  \n",
       "23             25 mg; 50 mg; 100mg            Eurofarma             14/08/2006  \n",
       "24            25 mg; 50 mg; 100 mg                 FURP             22/09/2014  \n",
       "25                 2L5E Smg; 50 mg               Geolab             21/08/2017  \n",
       "26             25 mg; 50 mg; 100mg               Germed             08/06/2004  \n",
       "27                   50 mg; 100 mg            Hipolabor             16/06/2008  \n",
       "28                5L0E Smg; 100 mg               Sanval             17/12/2018  \n",
       "29                          50mg/g              Legrand             05/07/2010  \n",
       "30                  250 mg; 500 mg                 Aché             10/10/2001  \n",
       "0                   250 mg; 500 mg              EMS S/A             05/11/2002  \n",
       "1                   250 mg; 500 mg                 FURP             04/05/2015  \n",
       "2                            20 mg              EMS S/A             23/04/2018  \n",
       "3                  6 mcg + 100 mcg        Biosintétic a             07/11/2016  \n",
       "4                   100 mg; 500 mg               Accord             05/05/2014  \n",
       "5   1O0L0U mÇAgO; 5 I0N0JE mTgAVEL            Eurofarma             23/04/2018  \n",
       "6                   100 mg; 500 mg             Glenmark             13/02/2012  \n",
       "7                   100 mg; 500 mg                 Teva             21/10/2013  \n",
       "8              50 mg/ml; 100 mg/ml                 Aché             19/11/2007  \n",
       "9    20 mg/ml; 50 mg/ml; 100 mg/ml               Geolab             03/11/2008  \n",
       "10             50 mg/ml; 100 mg/ml          Medquímic a             30/10/2009  \n",
       "11                       100 mg/ml         Nova Química             05/07/2010  \n",
       "12                        50 mg/ml         Nova Química             18/04/2011  \n",
       "13                        50 mg/mL      Prati Donaduzzi             21/09/2010  \n",
       "14                        50 mg/ml                Teuto             19/04/2010  \n",
       "15         6d0o mg; 120 mg; 180 mg               1Farma             02/07/2018  \n",
       "16         6d0o mg; 120 mg; 180 mg                Cimed             12/03/2018  \n",
       "17                  120 mg; 180 mg         Nova Química             22/04/2004  \n",
       "18                  120 mg; 180 mg              Ranbaxy             27/08/2003  "
      ],
      "text/html": "<div>\n<style scoped>\n    .dataframe tbody tr th:only-of-type {\n        vertical-align: middle;\n    }\n\n    .dataframe tbody tr th {\n        vertical-align: top;\n    }\n\n    .dataframe thead th {\n        text-align: right;\n    }\n</style>\n<table border=\"1\" class=\"dataframe\">\n  <thead>\n    <tr style=\"text-align: right;\">\n      <th></th>\n      <th>Medicamento Genérico</th>\n      <th>Medicamento de Referência</th>\n      <th>Forma Farmacêutica</th>\n      <th>Concentração</th>\n      <th>Detentor do Registro</th>\n      <th>Publicação do registro</th>\n    </tr>\n  </thead>\n  <tbody>\n    <tr>\n      <th>0</th>\n      <td>cloridrato de doxorrubicina</td>\n      <td>Adriblastina RD</td>\n      <td>Pó para solução injetável</td>\n      <td>10 mg; 50 mg</td>\n      <td>Glenmark</td>\n      <td>10/03/2006</td>\n    </tr>\n    <tr>\n      <th>1</th>\n      <td>ibuprofeno</td>\n      <td>Advil</td>\n      <td>Suspensão Gotas</td>\n      <td>100 mg/ml</td>\n      <td>1Farma</td>\n      <td>15/07/2019</td>\n    </tr>\n    <tr>\n      <th>2</th>\n      <td>ibuprofeno</td>\n      <td>Advil</td>\n      <td>Cápsula dura</td>\n      <td>400 mg</td>\n      <td>Brainfarma</td>\n      <td>25/02/2019</td>\n    </tr>\n    <tr>\n      <th>3</th>\n      <td>ibuprofeno</td>\n      <td>Advil</td>\n      <td>Suspensão Gotas</td>\n      <td>100 mg/ml</td>\n      <td>Cimed</td>\n      <td>15/07/2019</td>\n    </tr>\n    <tr>\n      <th>4</th>\n      <td>ibuprofeno</td>\n      <td>Advil e Dalsy</td>\n      <td>Comprimido revestido</td>\n      <td>200 mg; 400 mg</td>\n      <td>Medquímic a</td>\n      <td>30/10/2009</td>\n    </tr>\n    <tr>\n      <th>5</th>\n      <td>sulfato de salbutamol + guaifenesina</td>\n      <td>Aeroflux</td>\n      <td>Solução oral</td>\n      <td>0,4 mg/ml + 20 mg/ml</td>\n      <td>EMS S/A</td>\n      <td>08/01/2007</td>\n    </tr>\n    <tr>\n      <th>6</th>\n      <td>sulfato de salbutamol + guaifenesina</td>\n      <td>Aeroflux</td>\n      <td>Solução oral</td>\n      <td>0,4 mg/ml + 20 mg/ml</td>\n      <td>Legrand</td>\n      <td>29/03/2010</td>\n    </tr>\n    <tr>\n      <th>7</th>\n      <td>sulfato de salbutamol</td>\n      <td>Aerolin</td>\n      <td>Xarope</td>\n      <td>0,4 mg/ml</td>\n      <td>Brainfarm a</td>\n      <td>31/03/2000</td>\n    </tr>\n    <tr>\n      <th>8</th>\n      <td>sulfato de salbutamol</td>\n      <td>Aerolin</td>\n      <td>Solução oral</td>\n      <td>0,4 mg/ml</td>\n      <td>EMS S/A</td>\n      <td>20/04/2000</td>\n    </tr>\n    <tr>\n      <th>9</th>\n      <td>sulfato de salbutamol</td>\n      <td>Aerolin</td>\n      <td>Xarope</td>\n      <td>0,4 mg/ml</td>\n      <td>Geolab</td>\n      <td>24/07/2006</td>\n    </tr>\n    <tr>\n      <th>10</th>\n      <td>sulfato de salbutamol</td>\n      <td>Aerolin</td>\n      <td>Xarope</td>\n      <td>0,4 mg/ml</td>\n      <td>Mariol</td>\n      <td>26/12/2011</td>\n    </tr>\n    <tr>\n      <th>11</th>\n      <td>sulfato de salbutamol</td>\n      <td>Aerolin</td>\n      <td>Xarope</td>\n      <td>0,4 mg/ml; 0,48 mg/ml</td>\n      <td>Prati Donaduzzi</td>\n      <td>28/06/2001</td>\n    </tr>\n    <tr>\n      <th>12</th>\n      <td>sulfato de salbutamol</td>\n      <td>Aerolin</td>\n      <td>Xarope</td>\n      <td>0,4 mg/ml</td>\n      <td>Sanval</td>\n      <td>25/02/2008</td>\n    </tr>\n    <tr>\n      <th>13</th>\n      <td>sulfato de salbutamol</td>\n      <td>Aerolin</td>\n      <td>Xarope</td>\n      <td>0,4 mg/ml</td>\n      <td>Teuto</td>\n      <td>03/02/2000</td>\n    </tr>\n    <tr>\n      <th>14</th>\n      <td>sulfato de salbutamol</td>\n      <td>Aerolin</td>\n      <td>Xarope</td>\n      <td>0,4 mg/ml</td>\n      <td>Theodoro F Sobral</td>\n      <td>24/02/2003</td>\n    </tr>\n    <tr>\n      <th>15</th>\n      <td>sulfato de salbutamol</td>\n      <td>Aerolin</td>\n      <td>Xarope</td>\n      <td>0,4 mg/ml</td>\n      <td>Vitapan</td>\n      <td>03/02/2014</td>\n    </tr>\n    <tr>\n      <th>16</th>\n      <td>everolimo</td>\n      <td>Afinator/Certican</td>\n      <td>Comprimido</td>\n      <td>2,5 mg; 5 mg; 10 mg</td>\n      <td>Natcofarma</td>\n      <td>23/07/2018</td>\n    </tr>\n    <tr>\n      <th>17</th>\n      <td>cloridrato de oximetazolina</td>\n      <td>Afrin</td>\n      <td>Solução nasal local - frasco vaporizador</td>\n      <td>0,5 mg/ml</td>\n      <td>Brainfarm a</td>\n      <td>15/10/2012</td>\n    </tr>\n    <tr>\n      <th>18</th>\n      <td>cloridrato de oximetazolina</td>\n      <td>Afrin</td>\n      <td>Solução nasal local - Conta-gotas e frasco vap...</td>\n      <td>0,5 mg/ml; 0,25 mg/ml</td>\n      <td>EMS S/A</td>\n      <td>19/09/2005</td>\n    </tr>\n    <tr>\n      <th>19</th>\n      <td>cloridrato de oximetazolina</td>\n      <td>Afrin</td>\n      <td>Solução nasal local - Conta-gotas</td>\n      <td>0,25 mg/ml</td>\n      <td>Prati Donaduzzi</td>\n      <td>02/02/2009</td>\n    </tr>\n    <tr>\n      <th>20</th>\n      <td>cloridrato de oximetazolina</td>\n      <td>Afrin</td>\n      <td>Solução nasal local - Conta-gotas e frasco vap...</td>\n      <td>0,5 mg/ml; 0,25 mg/ml</td>\n      <td>Teuto</td>\n      <td>11/07/2005</td>\n    </tr>\n    <tr>\n      <th>21</th>\n      <td>cloridrato de tirofiban</td>\n      <td>A mgroansotiadtratado</td>\n      <td>solução para diluiç</td>\n      <td>0o, 2in5j emtágv/eml l</td>\n      <td>Antibiótico</td>\n      <td>0d8o/ B0r7a/s2il019</td>\n    </tr>\n    <tr>\n      <th>22</th>\n      <td>espironolactona</td>\n      <td>Aldactone</td>\n      <td>Comprimido</td>\n      <td>25 mg; 50 mg; 100mg</td>\n      <td>EMS S/A</td>\n      <td>22/09/2003</td>\n    </tr>\n    <tr>\n      <th>23</th>\n      <td>espironolactona</td>\n      <td>Aldactone</td>\n      <td>Comprimido</td>\n      <td>25 mg; 50 mg; 100mg</td>\n      <td>Eurofarma</td>\n      <td>14/08/2006</td>\n    </tr>\n    <tr>\n      <th>24</th>\n      <td>espironolactona</td>\n      <td>Aldactone</td>\n      <td>Comprimido</td>\n      <td>25 mg; 50 mg; 100 mg</td>\n      <td>FURP</td>\n      <td>22/09/2014</td>\n    </tr>\n    <tr>\n      <th>25</th>\n      <td>espironolactona</td>\n      <td>Aldactone</td>\n      <td>COMPRIMIDO SIM</td>\n      <td>2L5E Smg; 50 mg</td>\n      <td>Geolab</td>\n      <td>21/08/2017</td>\n    </tr>\n    <tr>\n      <th>26</th>\n      <td>espironolactona</td>\n      <td>Aldactone</td>\n      <td>Comprimido</td>\n      <td>25 mg; 50 mg; 100mg</td>\n      <td>Germed</td>\n      <td>08/06/2004</td>\n    </tr>\n    <tr>\n      <th>27</th>\n      <td>espironolactona</td>\n      <td>Aldactone</td>\n      <td>Comprimido</td>\n      <td>50 mg; 100 mg</td>\n      <td>Hipolabor</td>\n      <td>16/06/2008</td>\n    </tr>\n    <tr>\n      <th>28</th>\n      <td>espironolactona</td>\n      <td>Aldactone</td>\n      <td>COMPRIMIDO SIM</td>\n      <td>5L0E Smg; 100 mg</td>\n      <td>Sanval</td>\n      <td>17/12/2018</td>\n    </tr>\n    <tr>\n      <th>29</th>\n      <td>imiquimode</td>\n      <td>Aldara</td>\n      <td>Creme dermatológico</td>\n      <td>50mg/g</td>\n      <td>Legrand</td>\n      <td>05/07/2010</td>\n    </tr>\n    <tr>\n      <th>30</th>\n      <td>metildopa</td>\n      <td>Aldomet</td>\n      <td>Comprimido revestido</td>\n      <td>250 mg; 500 mg</td>\n      <td>Aché</td>\n      <td>10/10/2001</td>\n    </tr>\n    <tr>\n      <th>0</th>\n      <td>metildopa</td>\n      <td>Aldomet</td>\n      <td>Comprimido revestido</td>\n      <td>250 mg; 500 mg</td>\n      <td>EMS S/A</td>\n      <td>05/11/2002</td>\n    </tr>\n    <tr>\n      <th>1</th>\n      <td>metildopa</td>\n      <td>Aldomet</td>\n      <td>Comprimido revestido</td>\n      <td>250 mg; 500 mg</td>\n      <td>FURP</td>\n      <td>04/05/2015</td>\n    </tr>\n    <tr>\n      <th>2</th>\n      <td>bilastina</td>\n      <td>ALEKTOS</td>\n      <td>comprimido</td>\n      <td>20 mg</td>\n      <td>EMS S/A</td>\n      <td>23/04/2018</td>\n    </tr>\n    <tr>\n      <th>3</th>\n      <td>fumarato de formoterol + budesonida</td>\n      <td>Alenia</td>\n      <td>Cápsula dura com pó para inalação</td>\n      <td>6 mcg + 100 mcg</td>\n      <td>Biosintétic a</td>\n      <td>07/11/2016</td>\n    </tr>\n    <tr>\n      <th>4</th>\n      <td>pemetrexede dissódico</td>\n      <td>Alimta</td>\n      <td>Pó para solução injetável</td>\n      <td>100 mg; 500 mg</td>\n      <td>Accord</td>\n      <td>05/05/2014</td>\n    </tr>\n    <tr>\n      <th>5</th>\n      <td>pemetrexede dissódic</td>\n      <td>Alimta</td>\n      <td>PO LIOFILO PARA</td>\n      <td>1O0L0U mÇAgO; 5 I0N0JE mTgAVEL</td>\n      <td>Eurofarma</td>\n      <td>23/04/2018</td>\n    </tr>\n    <tr>\n      <th>6</th>\n      <td>pemetrexede dissódico</td>\n      <td>Alimta</td>\n      <td>Pó para solução injetável</td>\n      <td>100 mg; 500 mg</td>\n      <td>Glenmark</td>\n      <td>13/02/2012</td>\n    </tr>\n    <tr>\n      <th>7</th>\n      <td>pemetrexede dissódico</td>\n      <td>Alimta</td>\n      <td>Pó para solução injetável</td>\n      <td>100 mg; 500 mg</td>\n      <td>Teva</td>\n      <td>21/10/2013</td>\n    </tr>\n    <tr>\n      <th>8</th>\n      <td>ibuprofeno</td>\n      <td>Alivium</td>\n      <td>Suspensão oral</td>\n      <td>50 mg/ml; 100 mg/ml</td>\n      <td>Aché</td>\n      <td>19/11/2007</td>\n    </tr>\n    <tr>\n      <th>9</th>\n      <td>ibuprofeno</td>\n      <td>Alivium</td>\n      <td>Suspensão oral</td>\n      <td>20 mg/ml; 50 mg/ml; 100 mg/ml</td>\n      <td>Geolab</td>\n      <td>03/11/2008</td>\n    </tr>\n    <tr>\n      <th>10</th>\n      <td>ibuprofeno</td>\n      <td>Alivium</td>\n      <td>Suspensão oral</td>\n      <td>50 mg/ml; 100 mg/ml</td>\n      <td>Medquímic a</td>\n      <td>30/10/2009</td>\n    </tr>\n    <tr>\n      <th>11</th>\n      <td>ibuprofeno</td>\n      <td>Alivium</td>\n      <td>Suspensão oral</td>\n      <td>100 mg/ml</td>\n      <td>Nova Química</td>\n      <td>05/07/2010</td>\n    </tr>\n    <tr>\n      <th>12</th>\n      <td>ibuprofeno</td>\n      <td>Alivium</td>\n      <td>Suspensão oral</td>\n      <td>50 mg/ml</td>\n      <td>Nova Química</td>\n      <td>18/04/2011</td>\n    </tr>\n    <tr>\n      <th>13</th>\n      <td>ibuprofeno</td>\n      <td>Alivium</td>\n      <td>Suspensão oral</td>\n      <td>50 mg/mL</td>\n      <td>Prati Donaduzzi</td>\n      <td>21/09/2010</td>\n    </tr>\n    <tr>\n      <th>14</th>\n      <td>ibuprofeno</td>\n      <td>Alivium</td>\n      <td>Suspensão oral</td>\n      <td>50 mg/ml</td>\n      <td>Teuto</td>\n      <td>19/04/2010</td>\n    </tr>\n    <tr>\n      <th>15</th>\n      <td>cloridrato de fexofena</td>\n      <td>Ainllaegra</td>\n      <td>comprimido revest</td>\n      <td>6d0o mg; 120 mg; 180 mg</td>\n      <td>1Farma</td>\n      <td>02/07/2018</td>\n    </tr>\n    <tr>\n      <th>16</th>\n      <td>cloridrato de fexofena</td>\n      <td>Ainllaegra</td>\n      <td>comprimido revest</td>\n      <td>6d0o mg; 120 mg; 180 mg</td>\n      <td>Cimed</td>\n      <td>12/03/2018</td>\n    </tr>\n    <tr>\n      <th>17</th>\n      <td>cloridrato de fexofenadina</td>\n      <td>Allegra</td>\n      <td>Comprimido revestido</td>\n      <td>120 mg; 180 mg</td>\n      <td>Nova Química</td>\n      <td>22/04/2004</td>\n    </tr>\n    <tr>\n      <th>18</th>\n      <td>cloridrato de fexofenadina</td>\n      <td>Allegra</td>\n      <td>Comprimido revestido</td>\n      <td>120 mg; 180 mg</td>\n      <td>Ranbaxy</td>\n      <td>27/08/2003</td>\n    </tr>\n  </tbody>\n</table>\n</div>"
     },
     "metadata": {},
     "execution_count": 26
    }
   ],
   "source": [
    "df[:50]"
   ]
  },
  {
   "source": [
    "## Referência"
   ],
   "cell_type": "markdown",
   "metadata": {}
  },
  {
   "cell_type": "code",
   "execution_count": 4,
   "metadata": {},
   "outputs": [],
   "source": [
    "response = []\n",
    "for file_name, new_file_name in zip(['./lista-a-incluidos-27-05-2021.pdf', './lista-b-incluidos-07-05-2021.pdf'], ['a', 'b']):\n",
    "    dfs = tabula.read_pdf(file_name, pages='all', pandas_options={'header': None})\n",
    "    df = pd.concat(dfs)\n",
    "    df.drop(index=0, inplace=True)\n",
    "    headers = df.iloc[0, :]\n",
    "    df = df[1:]\n",
    "    df.columns = headers\n",
    "    df.to_csv(f'referencia_{new_file_name}.csv', index=False)"
   ]
  },
  {
   "cell_type": "code",
   "execution_count": null,
   "metadata": {},
   "outputs": [],
   "source": []
  },
  {
   "cell_type": "code",
   "execution_count": null,
   "metadata": {},
   "outputs": [],
   "source": []
  }
 ]
}